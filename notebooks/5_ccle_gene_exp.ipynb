{
 "cells": [
  {
   "cell_type": "code",
   "execution_count": 1,
   "id": "initial_id",
   "metadata": {
    "collapsed": true,
    "ExecuteTime": {
     "end_time": "2024-01-05T11:05:30.693510Z",
     "start_time": "2024-01-05T11:05:22.309960200Z"
    }
   },
   "outputs": [
    {
     "name": "stdout",
     "output_type": "stream",
     "text": [
      "/mnt/c/Users/Habush/PycharmProjects/bnn_bg\n"
     ]
    },
    {
     "name": "stderr",
     "output_type": "stream",
     "text": [
      "2024-01-05 14:05:27.854130: W tensorflow/compiler/tf2tensorrt/utils/py_utils.cc:38] TF-TRT Warning: Could not find TensorRT\n"
     ]
    }
   ],
   "source": [
    "import jax.random\n",
    "import matplotlib.pyplot as plt\n",
    "import numpy as np\n",
    "import pandas as pd\n",
    "from sklearn.preprocessing import StandardScaler\n",
    "from sklearn.model_selection import train_test_split\n",
    "%load_ext autoreload\n",
    "\n",
    "%cd /mnt/c/Users/Habush/PycharmProjects/bnn_bg\n",
    "from s3.helper_functions import *\n",
    "from s3.mcmc_functions import *\n",
    "from core.spike_slab import *"
   ]
  },
  {
   "cell_type": "code",
   "execution_count": 2,
   "id": "7d199ba624294ca2",
   "metadata": {
    "collapsed": false,
    "ExecuteTime": {
     "end_time": "2024-01-03T18:57:40.855530500Z",
     "start_time": "2024-01-03T18:57:40.841687600Z"
    }
   },
   "outputs": [],
   "source": [
    "DATA_PATH = '/mnt/c/Users/Habush/PycharmProjects/bnn_bg/data'\n",
    "EXP_PATH = '/mnt/c/Users/Habush/PycharmProjects/bnn_bg/experiments'\n",
    "CCLE_PATH = f\"{DATA_PATH}/ccle\""
   ]
  },
  {
   "cell_type": "code",
   "execution_count": 3,
   "id": "80861f0b",
   "metadata": {},
   "outputs": [],
   "source": [
    "string_ppi_df = pd.read_csv(f\"{DATA_PATH}/string_ppi.csv\")"
   ]
  },
  {
   "cell_type": "code",
   "execution_count": 23,
   "id": "c845effd048c347f",
   "metadata": {
    "ExecuteTime": {
     "end_time": "2024-01-03T10:18:26.072140Z",
     "start_time": "2024-01-03T10:18:25.769481900Z"
    },
    "collapsed": false
   },
   "outputs": [],
   "source": [
    "# Load data\n",
    "ccle_data_df = pd.read_csv(f\"{CCLE_PATH}/CCLE_expression.csv\", index_col=0)"
   ]
  },
  {
   "cell_type": "code",
   "execution_count": 27,
   "id": "16d6f060",
   "metadata": {},
   "outputs": [],
   "source": [
    "model_info_df = pd.read_csv(f\"{CCLE_PATH}/model_info.csv\", index_col=0)\n",
    "drug_resonse_df = pd.read_csv(f\"{DATA_PATH}/GDSC2_fitted_dose_response_24Jul22.csv\", index_col=\"SANGER_MODEL_ID\")"
   ]
  },
  {
   "cell_type": "code",
   "execution_count": 28,
   "id": "28159585",
   "metadata": {},
   "outputs": [
    {
     "name": "stdout",
     "output_type": "stream",
     "text": [
      "Before filtering: (242036, 18)\n",
      "After filtering: (241578, 18)\n"
     ]
    }
   ],
   "source": [
    "#Keep only cell lines we have drug response data for\n",
    "print(f\"Before filtering: {drug_resonse_df.shape}\")\n",
    "drug_resonse_df = drug_resonse_df[drug_resonse_df.index.isin(model_info_df[\"SangerModelID\"])]\n",
    "print(f\"After filtering: {drug_resonse_df.shape}\")"
   ]
  },
  {
   "cell_type": "code",
   "execution_count": 29,
   "metadata": {},
   "outputs": [
    {
     "data": {
      "text/plain": [
       "GB         97\n",
       "MEL        94\n",
       "PAAD       94\n",
       "LUAD       90\n",
       "SCLC       81\n",
       "           ..\n",
       "HCCIHCH     1\n",
       "GBC         1\n",
       "CEGCC       1\n",
       "NSCLCPD     1\n",
       "TPLL        1\n",
       "Name: OncotreeCode, Length: 199, dtype: int64"
      ]
     },
     "execution_count": 29,
     "metadata": {},
     "output_type": "execute_result"
    }
   ],
   "source": [
    "#categorize cell lines by cancer type\n",
    "model_info_df[\"OncotreeCode\"].value_counts()"
   ],
   "id": "19c3c04c93c7139e"
  },
  {
   "cell_type": "code",
   "execution_count": 96,
   "outputs": [],
   "source": [
    "import haiku as hk\n",
    "import jax.numpy as jnp\n",
    "import tensorflow as tf\n",
    "\n",
    "def softmax_cross_entropy(logits, labels):\n",
    "  one_hot = jax.nn.one_hot(labels, logits.shape[-1])\n",
    "  return -jnp.sum(jax.nn.log_softmax(logits) * one_hot, axis=-1)\n",
    "\n",
    "def loss_fn(images, labels):\n",
    "  mlp = hk.Sequential([\n",
    "      hk.Linear(300), jax.nn.relu,\n",
    "      hk.Linear(100), jax.nn.relu,\n",
    "      hk.Linear(10),\n",
    "  ])\n",
    "  logits = mlp(images)\n",
    "  return jnp.mean(softmax_cross_entropy(logits, labels))\n",
    "\n",
    "loss_fn_t = hk.transform(loss_fn)\n",
    "loss_fn_t = hk.without_apply_rng(loss_fn_t)\n",
    "rng = jax.random.PRNGKey(42)\n",
    "x = jax.random.normal(rng, (100, 784))\n",
    "label = jax.random.randint(rng, (100,), 0, 2)\n",
    "\n",
    "input_dataset = iter(tf.data.Dataset.from_tensor_slices((x, label)))\n",
    "\n",
    "dummy_images, dummy_labels = x[0], label[0]\n",
    "params = loss_fn_t.init(rng, dummy_images, dummy_labels)\n",
    "# params\n",
    "# def update_rule(param, update):\n",
    "#   return param - 0.01 * update\n",
    "# \n",
    "# for images, labels in input_dataset:\n",
    "#   grads = jax.grad(loss_fn_t.apply)(params, images, labels)\n",
    "#   params = jax.tree_util.tree_map(update_rule, params, grads)"
   ],
   "metadata": {
    "collapsed": false,
    "ExecuteTime": {
     "end_time": "2024-01-05T12:43:53.019533700Z",
     "start_time": "2024-01-05T12:43:52.961491600Z"
    }
   },
   "id": "93f7199b0ffc8787"
  },
  {
   "cell_type": "code",
   "execution_count": 89,
   "outputs": [
    {
     "name": "stderr",
     "output_type": "stream",
     "text": [
      "/tmp/ipykernel_3664/2611997145.py:4: DeprecationWarning: jax.tree_structure is deprecated: use jax.tree_util.tree_structure.\n",
      "  jax.tree_structure(params)\n"
     ]
    },
    {
     "data": {
      "text/plain": "PyTreeDef({'linear': {'b': *, 'w': *}, 'linear_1': {'b': *, 'w': *}, 'linear_2': {'b': *, 'w': *}})"
     },
     "execution_count": 89,
     "metadata": {},
     "output_type": "execute_result"
    }
   ],
   "source": [
    "def log_gaussian(x):\n",
    "    return jnp.sum(tfd.Normal(0, 1).log_prob(x))\n",
    "\n",
    "jax.tree_structure(params)"
   ],
   "metadata": {
    "collapsed": false,
    "ExecuteTime": {
     "end_time": "2024-01-05T12:43:36.221126700Z",
     "start_time": "2024-01-05T12:43:36.207461800Z"
    }
   },
   "id": "51d3abe09eb89a6f"
  },
  {
   "cell_type": "code",
   "execution_count": 90,
   "outputs": [
    {
     "name": "stderr",
     "output_type": "stream",
     "text": [
      "/tmp/ipykernel_3664/1714611174.py:1: DeprecationWarning: jax.tree_leaves is deprecated: use jax.tree_util.tree_leaves.\n",
      "  len(jax.tree_leaves(params))\n"
     ]
    },
    {
     "data": {
      "text/plain": "6"
     },
     "execution_count": 90,
     "metadata": {},
     "output_type": "execute_result"
    }
   ],
   "source": [
    "len(jax.tree_leaves(params))"
   ],
   "metadata": {
    "collapsed": false,
    "ExecuteTime": {
     "end_time": "2024-01-05T12:43:38.488910300Z",
     "start_time": "2024-01-05T12:43:38.462684600Z"
    }
   },
   "id": "6ac8610bc0efde16"
  },
  {
   "cell_type": "code",
   "execution_count": 91,
   "outputs": [],
   "source": [
    "def get_first_elem_in_sharded_tree(tree):\n",
    "  return jax.tree_map(lambda p: p[0], tree)"
   ],
   "metadata": {
    "collapsed": false,
    "ExecuteTime": {
     "end_time": "2024-01-05T12:43:39.757724800Z",
     "start_time": "2024-01-05T12:43:39.755500200Z"
    }
   },
   "id": "abeb090eca050649"
  },
  {
   "cell_type": "code",
   "execution_count": 92,
   "outputs": [
    {
     "data": {
      "text/plain": "{'a': Array(1, dtype=int32), 'b': Array(4, dtype=int32)}"
     },
     "execution_count": 92,
     "metadata": {},
     "output_type": "execute_result"
    }
   ],
   "source": [
    "sample_tree = {'a': jnp.array([1, 2, 3]), 'b': jnp.array([4, 5, 6])}\n",
    "get_first_elem_in_sharded_tree(sample_tree)"
   ],
   "metadata": {
    "collapsed": false,
    "ExecuteTime": {
     "end_time": "2024-01-05T12:43:40.313865700Z",
     "start_time": "2024-01-05T12:43:40.253306800Z"
    }
   },
   "id": "d9dc0cddcdb4a38c"
  },
  {
   "cell_type": "code",
   "execution_count": 162,
   "outputs": [],
   "source": [
    "%autoreload\n",
    "from utils import tree_utils\n",
    "import operator\n",
    "def make_gaussian_log_prior1(weight_decay, temperature):\n",
    "  \"\"\"Returns the Gaussian log-density and delta given weight decay.\"\"\"\n",
    "\n",
    "  def log_prior(params):\n",
    "    \"\"\"Computes the Gaussian prior log-density.\"\"\"\n",
    "    # ToDo izmailovpavel: make temperature treatment the same as in gaussian\n",
    "    # likelihood function.\n",
    "    sizes = [p.size for p in jax.tree_leaves(params)]\n",
    "    print(f\"sizes: {sizes}\")\n",
    "    n_params = sum([p.size for p in jax.tree_leaves(params)])\n",
    "    log_prob = -(0.5 * tree_utils.tree_dot(params, params) * weight_decay +\n",
    "                 0.5 * n_params * jnp.log(weight_decay / (2 * jnp.pi)))\n",
    "    return log_prob / temperature\n",
    "\n",
    "  return log_prior\n",
    "\n",
    "def make_gaussian_log_prior2(weight_decay, temperature):\n",
    "  \"\"\"Returns the Gaussian log-density and delta given weight decay.\"\"\"\n",
    "\n",
    "  def log_prior(params):\n",
    "    \"\"\"Computes the Gaussian prior log-density.\"\"\"\n",
    "    # ToDo izmailovpavel: make temperature treatment the same as in gaussian\n",
    "    # likelihood function.\n",
    "    \n",
    "    def fn(x):\n",
    "        dist = tfd.MultivariateNormalDiag(jnp.zeros_like(x), jnp.ones_like(x)*weight_decay)\n",
    "        print(f\"dist: {dist}\")\n",
    "        return jnp.sum(dist.unnormalized_log_prob(x))\n",
    "    \n",
    "    log_prob = sum(jax.tree_leaves(jax.tree_map(fn, params)))\n",
    "    return log_prob / temperature\n",
    "\n",
    "  return log_prior"
   ],
   "metadata": {
    "collapsed": false,
    "ExecuteTime": {
     "end_time": "2024-01-05T14:25:05.749267100Z",
     "start_time": "2024-01-05T14:25:05.701829300Z"
    }
   },
   "id": "30c1f8bf69120784"
  },
  {
   "cell_type": "code",
   "execution_count": 163,
   "outputs": [
    {
     "name": "stdout",
     "output_type": "stream",
     "text": [
      "sizes: [300, 235200, 100, 30000, 10, 1000]\n"
     ]
    },
    {
     "name": "stderr",
     "output_type": "stream",
     "text": [
      "/tmp/ipykernel_3664/708325981.py:11: DeprecationWarning: jax.tree_leaves is deprecated: use jax.tree_util.tree_leaves.\n",
      "  sizes = [p.size for p in jax.tree_leaves(params)]\n",
      "/tmp/ipykernel_3664/708325981.py:13: DeprecationWarning: jax.tree_leaves is deprecated: use jax.tree_util.tree_leaves.\n",
      "  n_params = sum([p.size for p in jax.tree_leaves(params)])\n"
     ]
    },
    {
     "ename": "TypeError",
     "evalue": "add got incompatible shapes for broadcasting: (300, 300), (100, 100).",
     "output_type": "error",
     "traceback": [
      "\u001B[0;31m---------------------------------------------------------------------------\u001B[0m",
      "\u001B[0;31mTypeError\u001B[0m                                 Traceback (most recent call last)",
      "Cell \u001B[0;32mIn[163], line 2\u001B[0m\n\u001B[1;32m      1\u001B[0m log_prior1 \u001B[38;5;241m=\u001B[39m make_gaussian_log_prior1(\u001B[38;5;241m1\u001B[39m, \u001B[38;5;241m1\u001B[39m)\n\u001B[0;32m----> 2\u001B[0m \u001B[43mlog_prior1\u001B[49m\u001B[43m(\u001B[49m\u001B[43mparams\u001B[49m\u001B[43m)\u001B[49m\n",
      "Cell \u001B[0;32mIn[162], line 14\u001B[0m, in \u001B[0;36mmake_gaussian_log_prior1.<locals>.log_prior\u001B[0;34m(params)\u001B[0m\n\u001B[1;32m     12\u001B[0m \u001B[38;5;28mprint\u001B[39m(\u001B[38;5;124mf\u001B[39m\u001B[38;5;124m\"\u001B[39m\u001B[38;5;124msizes: \u001B[39m\u001B[38;5;132;01m{\u001B[39;00msizes\u001B[38;5;132;01m}\u001B[39;00m\u001B[38;5;124m\"\u001B[39m)\n\u001B[1;32m     13\u001B[0m n_params \u001B[38;5;241m=\u001B[39m \u001B[38;5;28msum\u001B[39m([p\u001B[38;5;241m.\u001B[39msize \u001B[38;5;28;01mfor\u001B[39;00m p \u001B[38;5;129;01min\u001B[39;00m jax\u001B[38;5;241m.\u001B[39mtree_leaves(params)])\n\u001B[0;32m---> 14\u001B[0m log_prob \u001B[38;5;241m=\u001B[39m \u001B[38;5;241m-\u001B[39m(\u001B[38;5;241m0.5\u001B[39m \u001B[38;5;241m*\u001B[39m \u001B[43mtree_utils\u001B[49m\u001B[38;5;241;43m.\u001B[39;49m\u001B[43mtree_dot\u001B[49m\u001B[43m(\u001B[49m\u001B[43mparams\u001B[49m\u001B[43m,\u001B[49m\u001B[43m \u001B[49m\u001B[43mparams\u001B[49m\u001B[43m)\u001B[49m \u001B[38;5;241m*\u001B[39m weight_decay \u001B[38;5;241m+\u001B[39m\n\u001B[1;32m     15\u001B[0m              \u001B[38;5;241m0.5\u001B[39m \u001B[38;5;241m*\u001B[39m n_params \u001B[38;5;241m*\u001B[39m jnp\u001B[38;5;241m.\u001B[39mlog(weight_decay \u001B[38;5;241m/\u001B[39m (\u001B[38;5;241m2\u001B[39m \u001B[38;5;241m*\u001B[39m jnp\u001B[38;5;241m.\u001B[39mpi)))\n\u001B[1;32m     16\u001B[0m \u001B[38;5;28;01mreturn\u001B[39;00m log_prob \u001B[38;5;241m/\u001B[39m temperature\n",
      "File \u001B[0;32m/mnt/c/Users/Habush/PycharmProjects/bnn_bg/utils/tree_utils.py:52\u001B[0m, in \u001B[0;36mtree_dot\u001B[0;34m(a, b)\u001B[0m\n\u001B[1;32m     51\u001B[0m \u001B[38;5;28;01mdef\u001B[39;00m \u001B[38;5;21mtree_dot\u001B[39m(a, b):\n\u001B[0;32m---> 52\u001B[0m   \u001B[38;5;28;01mreturn\u001B[39;00m \u001B[38;5;28;43msum\u001B[39;49m\u001B[43m(\u001B[49m\u001B[43m[\u001B[49m\u001B[43mjnp\u001B[49m\u001B[38;5;241;43m.\u001B[39;49m\u001B[43mdot\u001B[49m\u001B[43m(\u001B[49m\u001B[43me1\u001B[49m\u001B[43m,\u001B[49m\u001B[43m \u001B[49m\u001B[43me2\u001B[49m\u001B[43m)\u001B[49m\u001B[43m \u001B[49m\u001B[38;5;28;43;01mfor\u001B[39;49;00m\u001B[43m \u001B[49m\u001B[43me1\u001B[49m\u001B[43m,\u001B[49m\u001B[43m \u001B[49m\u001B[43me2\u001B[49m\u001B[43m \u001B[49m\u001B[38;5;129;43;01min\u001B[39;49;00m\n\u001B[1;32m     53\u001B[0m \u001B[43m              \u001B[49m\u001B[38;5;28;43mzip\u001B[39;49m\u001B[43m(\u001B[49m\u001B[43mjax\u001B[49m\u001B[38;5;241;43m.\u001B[39;49m\u001B[43mtree_util\u001B[49m\u001B[38;5;241;43m.\u001B[39;49m\u001B[43mtree_leaves\u001B[49m\u001B[43m(\u001B[49m\u001B[43ma\u001B[49m\u001B[43m)\u001B[49m\u001B[43m,\u001B[49m\u001B[43m \u001B[49m\u001B[43mjax\u001B[49m\u001B[38;5;241;43m.\u001B[39;49m\u001B[43mtree_util\u001B[49m\u001B[38;5;241;43m.\u001B[39;49m\u001B[43mtree_leaves\u001B[49m\u001B[43m(\u001B[49m\u001B[43mb\u001B[49m\u001B[43m)\u001B[49m\u001B[43m)\u001B[49m\u001B[43m]\u001B[49m\u001B[43m)\u001B[49m\n",
      "File \u001B[0;32m~/miniconda3/lib/python3.9/site-packages/jax/_src/numpy/array_methods.py:256\u001B[0m, in \u001B[0;36m_defer_to_unrecognized_arg.<locals>.deferring_binary_op\u001B[0;34m(self, other)\u001B[0m\n\u001B[1;32m    254\u001B[0m args \u001B[38;5;241m=\u001B[39m (other, \u001B[38;5;28mself\u001B[39m) \u001B[38;5;28;01mif\u001B[39;00m swap \u001B[38;5;28;01melse\u001B[39;00m (\u001B[38;5;28mself\u001B[39m, other)\n\u001B[1;32m    255\u001B[0m \u001B[38;5;28;01mif\u001B[39;00m \u001B[38;5;28misinstance\u001B[39m(other, _accepted_binop_types):\n\u001B[0;32m--> 256\u001B[0m   \u001B[38;5;28;01mreturn\u001B[39;00m \u001B[43mbinary_op\u001B[49m\u001B[43m(\u001B[49m\u001B[38;5;241;43m*\u001B[39;49m\u001B[43margs\u001B[49m\u001B[43m)\u001B[49m\n\u001B[1;32m    257\u001B[0m \u001B[38;5;66;03m# Note: don't use isinstance here, because we don't want to raise for\u001B[39;00m\n\u001B[1;32m    258\u001B[0m \u001B[38;5;66;03m# subclasses, e.g. NamedTuple objects that may override operators.\u001B[39;00m\n\u001B[1;32m    259\u001B[0m \u001B[38;5;28;01mif\u001B[39;00m \u001B[38;5;28mtype\u001B[39m(other) \u001B[38;5;129;01min\u001B[39;00m _rejected_binop_types:\n",
      "    \u001B[0;31m[... skipping hidden 12 frame]\u001B[0m\n",
      "File \u001B[0;32m~/miniconda3/lib/python3.9/site-packages/jax/_src/numpy/ufuncs.py:97\u001B[0m, in \u001B[0;36m_maybe_bool_binop.<locals>.fn\u001B[0;34m(x1, x2)\u001B[0m\n\u001B[1;32m     95\u001B[0m \u001B[38;5;28;01mdef\u001B[39;00m \u001B[38;5;21mfn\u001B[39m(x1, x2, \u001B[38;5;241m/\u001B[39m):\n\u001B[1;32m     96\u001B[0m   x1, x2 \u001B[38;5;241m=\u001B[39m promote_args(numpy_fn\u001B[38;5;241m.\u001B[39m\u001B[38;5;18m__name__\u001B[39m, x1, x2)\n\u001B[0;32m---> 97\u001B[0m   \u001B[38;5;28;01mreturn\u001B[39;00m \u001B[43mlax_fn\u001B[49m\u001B[43m(\u001B[49m\u001B[43mx1\u001B[49m\u001B[43m,\u001B[49m\u001B[43m \u001B[49m\u001B[43mx2\u001B[49m\u001B[43m)\u001B[49m \u001B[38;5;28;01mif\u001B[39;00m x1\u001B[38;5;241m.\u001B[39mdtype \u001B[38;5;241m!=\u001B[39m np\u001B[38;5;241m.\u001B[39mbool_ \u001B[38;5;28;01melse\u001B[39;00m bool_lax_fn(x1, x2)\n",
      "    \u001B[0;31m[... skipping hidden 7 frame]\u001B[0m\n",
      "File \u001B[0;32m~/miniconda3/lib/python3.9/site-packages/jax/_src/lax/lax.py:1591\u001B[0m, in \u001B[0;36mbroadcasting_shape_rule\u001B[0;34m(name, *avals)\u001B[0m\n\u001B[1;32m   1589\u001B[0m       result_shape\u001B[38;5;241m.\u001B[39mappend(non_1s[\u001B[38;5;241m0\u001B[39m])\n\u001B[1;32m   1590\u001B[0m     \u001B[38;5;28;01melse\u001B[39;00m:\n\u001B[0;32m-> 1591\u001B[0m       \u001B[38;5;28;01mraise\u001B[39;00m \u001B[38;5;167;01mTypeError\u001B[39;00m(\u001B[38;5;124mf\u001B[39m\u001B[38;5;124m'\u001B[39m\u001B[38;5;132;01m{\u001B[39;00mname\u001B[38;5;132;01m}\u001B[39;00m\u001B[38;5;124m got incompatible shapes for broadcasting: \u001B[39m\u001B[38;5;124m'\u001B[39m\n\u001B[1;32m   1592\u001B[0m                       \u001B[38;5;124mf\u001B[39m\u001B[38;5;124m'\u001B[39m\u001B[38;5;132;01m{\u001B[39;00m\u001B[38;5;124m\"\u001B[39m\u001B[38;5;124m, \u001B[39m\u001B[38;5;124m\"\u001B[39m\u001B[38;5;241m.\u001B[39mjoin(\u001B[38;5;28mmap\u001B[39m(\u001B[38;5;28mstr\u001B[39m,\u001B[38;5;250m \u001B[39m\u001B[38;5;28mmap\u001B[39m(\u001B[38;5;28mtuple\u001B[39m,\u001B[38;5;250m \u001B[39mshapes)))\u001B[38;5;132;01m}\u001B[39;00m\u001B[38;5;124m.\u001B[39m\u001B[38;5;124m'\u001B[39m)\n\u001B[1;32m   1594\u001B[0m \u001B[38;5;28;01mreturn\u001B[39;00m \u001B[38;5;28mtuple\u001B[39m(result_shape)\n",
      "\u001B[0;31mTypeError\u001B[0m: add got incompatible shapes for broadcasting: (300, 300), (100, 100)."
     ]
    }
   ],
   "source": [
    "log_prior1 = make_gaussian_log_prior1(1, 1)\n",
    "log_prior1(params)"
   ],
   "metadata": {
    "collapsed": false,
    "ExecuteTime": {
     "end_time": "2024-01-05T14:25:06.124146900Z",
     "start_time": "2024-01-05T14:25:06.031990500Z"
    }
   },
   "id": "bfb63703cee33ffe"
  },
  {
   "cell_type": "code",
   "execution_count": 156,
   "outputs": [
    {
     "name": "stderr",
     "output_type": "stream",
     "text": [
      "/tmp/ipykernel_3664/928529965.py:30: DeprecationWarning: jax.tree_leaves is deprecated: use jax.tree_util.tree_leaves.\n",
      "  log_prob = sum(jax.tree_leaves(jax.tree_map(fn, params)))\n"
     ]
    },
    {
     "name": "stdout",
     "output_type": "stream",
     "text": [
      "dist: tfp.distributions.MultivariateNormalDiag(\"MultivariateNormalDiag\", batch_shape=[], event_shape=[300], dtype=float32)\n",
      "dist: tfp.distributions.MultivariateNormalDiag(\"MultivariateNormalDiag\", batch_shape=[784], event_shape=[300], dtype=float32)\n",
      "dist: tfp.distributions.MultivariateNormalDiag(\"MultivariateNormalDiag\", batch_shape=[], event_shape=[100], dtype=float32)\n",
      "dist: tfp.distributions.MultivariateNormalDiag(\"MultivariateNormalDiag\", batch_shape=[300], event_shape=[100], dtype=float32)\n",
      "dist: tfp.distributions.MultivariateNormalDiag(\"MultivariateNormalDiag\", batch_shape=[], event_shape=[10], dtype=float32)\n",
      "dist: tfp.distributions.MultivariateNormalDiag(\"MultivariateNormalDiag\", batch_shape=[100], event_shape=[10], dtype=float32)\n"
     ]
    },
    {
     "data": {
      "text/plain": "Array(-245157.42, dtype=float32)"
     },
     "execution_count": 156,
     "metadata": {},
     "output_type": "execute_result"
    }
   ],
   "source": [
    "log_prior2 = make_gaussian_log_prior2(1, 1)\n",
    "log_prior2(params)"
   ],
   "metadata": {
    "collapsed": false,
    "ExecuteTime": {
     "end_time": "2024-01-05T12:53:16.068272700Z",
     "start_time": "2024-01-05T12:53:15.841388600Z"
    }
   },
   "id": "f97a38fb514b9c01"
  },
  {
   "cell_type": "code",
   "execution_count": 34,
   "outputs": [
    {
     "name": "stderr",
     "output_type": "stream",
     "text": [
      "/tmp/ipykernel_3664/137367794.py:1: DeprecationWarning: jax.tree_leaves is deprecated: use jax.tree_util.tree_leaves.\n",
      "  jax.tree_leaves(params)\n"
     ]
    },
    {
     "data": {
      "text/plain": "[Array([1., 2., 3.], dtype=float32),\n Array([4., 5., 6.], dtype=float32),\n Array([1., 2., 3.], dtype=float32)]"
     },
     "execution_count": 34,
     "metadata": {},
     "output_type": "execute_result"
    }
   ],
   "source": [
    "jax.tree_leaves(params)"
   ],
   "metadata": {
    "collapsed": false,
    "ExecuteTime": {
     "end_time": "2024-01-05T11:41:49.367875900Z",
     "start_time": "2024-01-05T11:41:49.367875900Z"
    }
   },
   "id": "6600ba6639385e20"
  },
  {
   "cell_type": "code",
   "execution_count": 75,
   "outputs": [
    {
     "data": {
      "text/plain": "{'a': Array([1., 2., 3.], dtype=float32),\n 'b': Array([4., 5., 6.], dtype=float32),\n 'c': Array([1., 2., 3.], dtype=float32)}"
     },
     "execution_count": 75,
     "metadata": {},
     "output_type": "execute_result"
    }
   ],
   "source": [
    "params"
   ],
   "metadata": {
    "collapsed": false,
    "ExecuteTime": {
     "end_time": "2024-01-05T12:09:05.306549100Z",
     "start_time": "2024-01-05T12:09:05.257636800Z"
    }
   },
   "id": "c6edee97ccab041c"
  },
  {
   "cell_type": "code",
   "execution_count": 161,
   "outputs": [
    {
     "name": "stdout",
     "output_type": "stream",
     "text": [
      "e1: (300,), e2: (300,)\n",
      "e1: (784, 300), e2: (784, 300)\n",
      "e1: (100,), e2: (100,)\n",
      "e1: (300, 100), e2: (300, 100)\n",
      "e1: (10,), e2: (10,)\n",
      "e1: (100, 10), e2: (100, 10)\n"
     ]
    }
   ],
   "source": [
    "def tree_dot(a, b):\n",
    "  # return sum([jnp.sum(e1 * e2) for e1, e2 in\n",
    "              # zip(jax.tree_util.tree_leaves(a), jax.tree_util.tree_leaves(b))])\n",
    "    for e1, e2 in zip(jax.tree_util.tree_leaves(a), jax.tree_util.tree_leaves(b)):\n",
    "        print(f\"e1: {e1.shape}, e2: {e2.shape}\")\n",
    "# tfd.Normal(0, 1).unnormalized_log_prob(tree_dot(params, params))/sum([p.size for p in jax.tree_leaves(params)])\n",
    "\n",
    "tree_dot(params, params)"
   ],
   "metadata": {
    "collapsed": false,
    "ExecuteTime": {
     "end_time": "2024-01-05T13:56:18.814026700Z",
     "start_time": "2024-01-05T13:56:18.810047100Z"
    }
   },
   "id": "c43a35942d370cd"
  },
  {
   "cell_type": "code",
   "execution_count": 174,
   "outputs": [
    {
     "name": "stdout",
     "output_type": "stream",
     "text": [
      "slap_log_prob: -12.414043426513672, spike_log_prob: -37499976.0\n"
     ]
    }
   ],
   "source": [
    "x = jnp.array([0.5, 0.5, 0.5])\n",
    "sigma2, tau1, tau0 = 1., 5., 1e-2\n",
    "slab_lp_fn = lambda t: tfd.MultivariateNormalDiag(0, jnp.ones_like(t)*(tau1**2)*sigma2).log_prob(t)\n",
    "spike_lp_fn = lambda t: tfd.MultivariateNormalDiag(0, jnp.ones_like(t)*(tau0**2)*sigma2).log_prob(t)\n",
    "\n",
    "slap_log_prob = slab_lp_fn(x)\n",
    "spike_log_prob = spike_lp_fn(x)\n",
    "print(f\"slap_log_prob: {slap_log_prob}, spike_log_prob: {spike_log_prob}\")"
   ],
   "metadata": {
    "collapsed": false,
    "ExecuteTime": {
     "end_time": "2024-01-05T14:37:33.631861Z",
     "start_time": "2024-01-05T14:37:33.545668600Z"
    }
   },
   "id": "16dfcdaadf05bcb3"
  }
 ],
 "metadata": {
  "kernelspec": {
   "display_name": "Python 3 (ipykernel)",
   "language": "python",
   "name": "python3"
  },
  "language_info": {
   "codemirror_mode": {
    "name": "ipython",
    "version": 3
   },
   "file_extension": ".py",
   "mimetype": "text/x-python",
   "name": "python",
   "nbconvert_exporter": "python",
   "pygments_lexer": "ipython3",
   "version": "3.9.18"
  }
 },
 "nbformat": 4,
 "nbformat_minor": 5
}
